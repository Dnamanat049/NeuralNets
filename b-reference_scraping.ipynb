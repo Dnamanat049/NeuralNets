{
 "cells": [
  {
   "cell_type": "code",
   "execution_count": 15,
   "metadata": {},
   "outputs": [],
   "source": [
    "#Pre-Scraping process for basketball-reference\n",
    "\n",
    "# Creating year and month tags for 2010-2019\n",
    "years = list(range(2010, 2020))\n",
    "months = [\"games-october\", \"games-november\", \"games-december\", \"games-january\", \"games-february\", \"games-march\"]\n",
    "\n",
    "# Combining year and month tags for normal years\n",
    "year_months = []\n",
    "for year in years:\n",
    "    for month in months:\n",
    "        year_months.append(str(year) + \"_\" + month)\n",
    "for month in months:\n",
    "    year_months.append(str(2022) + \"_\" + month)\n",
    "\n",
    "# Remove October and November of 2012 because of lockout season\n",
    "year_months.remove(\"2012_games-october\")\n",
    "year_months.remove(\"2012_games-november\")"
   ]
  },
  {
   "cell_type": "markdown",
   "metadata": {},
   "source": [
    "NOTES:\n",
    "\n",
    "Season 2019-2020: Works out weird, because of COVID season. We'll use every month before March. Also October is weird: 2020_games-october-2019\n",
    "\n",
    "Season 2020-2021: Weird because it actually started in December. Playoffs started in May, so only add December-April\n",
    "\n",
    "Season 2011-2012: Lockout shortened, no October or November games\n",
    "\n",
    "Every other season: Scrape October-March"
   ]
  },
  {
   "cell_type": "code",
   "execution_count": 3,
   "metadata": {},
   "outputs": [],
   "source": [
    "# Scraping the data from basketball-reference\n",
    "import requests\n",
    "\n",
    "url_start = \"https://www.basketball-reference.com/leagues/NBA_{}.html\"\n",
    "\n",
    "for year_month in year_months:\n",
    "    url = url_start.format(year_month)\n",
    "    data = requests.get(url)\n",
    "    with open(\"Game_Results/{}.html\".format(year_month), \"w+\") as f:\n",
    "        f.write(data.text)"
   ]
  },
  {
   "cell_type": "code",
   "execution_count": 16,
   "metadata": {},
   "outputs": [],
   "source": [
    "from bs4 import BeautifulSoup\n",
    "import pandas as pd"
   ]
  },
  {
   "cell_type": "code",
   "execution_count": 24,
   "metadata": {},
   "outputs": [],
   "source": [
    "# Grabbing the tables out of the scraped HTML files\n",
    "for year_month in year_months:\n",
    "    with open(\"Game_Results/{}.html\".format(year_month)) as f:\n",
    "        page = f.read()\n",
    "    soup = BeautifulSoup(page, \"html.parser\")\n",
    "\n",
    "    # Look for the id \"schedule\" that contains the data\n",
    "    schedule_table = soup.find_all(id=\"schedule\")\n",
    "    schedule = pd.read_html(str(schedule_table))[0]\n",
    "\n",
    "    schedule.to_csv(\"Game_Results_CSV/{}\".format(year_month))\n",
    "    "
   ]
  },
  {
   "cell_type": "code",
   "execution_count": 25,
   "metadata": {},
   "outputs": [],
   "source": [
    "import os\n",
    "\n",
    "path = \"/Users/Deen/Desktop/Neural_Nets/Final_Project/Game_Results_CSV/\"\n",
    "\n",
    "files = os.listdir(path)\n",
    "\n",
    "# Renaming the files to a simpler format of \"season_month\"\n",
    "for file in files:\n",
    "    # break up the file into its components\n",
    "    file_list = file.split(\"_\")\n",
    "    file_list[1] = file_list[1].split(\"-\")\n",
    "\n",
    "    # year is defined by the latter season. Example: 2009-2010 season is called \"10\"\n",
    "    year = int(file_list[0][2:])\n",
    "\n",
    "    # code the months as numbers\n",
    "    month = 1\n",
    "    if file_list[1][1] == \"november\":\n",
    "        month = 2\n",
    "    elif file_list[1][1] == \"december\":\n",
    "        month = 3\n",
    "    elif file_list[1][1] == \"january\":\n",
    "        month = 4\n",
    "    elif file_list[1][1] == \"february\":\n",
    "        month = 5\n",
    "    elif file_list[1][1] == \"march\":\n",
    "        month = 6\n",
    "\n",
    "    # We remove october and november, because there have not been enough games played yet to predict these outcomes\n",
    "    if month == 1 or month == 2:\n",
    "        os.remove(path+file)\n",
    "    \n",
    "    # Naming works out weird for 2009 so I did that manually\n",
    "    elif year == 10:\n",
    "         os.rename(path+file, f\"\" + \"2009-10\" + \"_\" + str(month) + \".csv\")\n",
    "    \n",
    "    # We removed december, because in the lockout season there were not enough games played yet to predict these outcomes\n",
    "    elif year == 12 and month == 3:\n",
    "            os.remove(path+file)\n",
    "    # Rename everything else per the new naming convention\n",
    "    else:\n",
    "        os.rename(path+file, f\"\" + file_list[0][:2] + str(year-1) + \"-\" + str(year) + \"_\" + str(month) + \".csv\")\n"
   ]
  },
  {
   "cell_type": "markdown",
   "metadata": {},
   "source": [
    "At this point all of the files will be in the main final_project folder, and you will have to manually move them back into the \"Game_Results_CSV\" folder."
   ]
  },
  {
   "cell_type": "code",
   "execution_count": 5,
   "metadata": {},
   "outputs": [],
   "source": [
    "from selenium import webdriver"
   ]
  },
  {
   "cell_type": "code",
   "execution_count": 6,
   "metadata": {},
   "outputs": [],
   "source": [
    "driver = webdriver.Safari()"
   ]
  },
  {
   "cell_type": "code",
   "execution_count": 20,
   "metadata": {},
   "outputs": [
    {
     "name": "stdout",
     "output_type": "stream",
     "text": [
      "['2018-19', '2017-18', '2016-17', '2015-16', '2014-15', '2013-14', '2012-13', '2011-12', '2010-11', '2009-10', '2021-22']\n"
     ]
    }
   ],
   "source": [
    "# Pre-scraping process for nba.com (building the list of years we will look for)\n",
    "\n",
    "nba_years = []\n",
    "\n",
    "for i in range(10):\n",
    "    nba_years.append(str(2018-i) + \"-\" + str(19-i))\n",
    "\n",
    "nba_years.append(\"2021-22\")"
   ]
  },
  {
   "cell_type": "code",
   "execution_count": 17,
   "metadata": {},
   "outputs": [],
   "source": [
    "import time\n",
    "\n",
    "url_start = \"https://www.nba.com/stats/teams/traditional/?sort=MIN&dir=-1&Season={}&SeasonType=Regular%20Season&Month=\"\n",
    "\n",
    "for year in nba_years:\n",
    "    # 2011-12 is a special year because of the lockout season, so only look for the later months\n",
    "    if year == \"2011-12\":\n",
    "        for i in range(4):\n",
    "            url = url_start.format(year) + str(i+3)\n",
    "            driver.get(url)\n",
    "            driver.execute_script(\"window.scrollTo(1,10000)\")\n",
    "            time.sleep(2)\n",
    "            html = driver.page_source\n",
    "            with open(\"Monthly_Stats_New/{}_\".format(year) + str(i + 3) + \".html\", \"w+\") as f:\n",
    "                f.write(html)\n",
    "    \n",
    "    # for every other year, get all the months\n",
    "    else: \n",
    "        for i in range(6):\n",
    "            url = url_start.format(year) + str(i+1)\n",
    "            driver.get(url)\n",
    "            driver.execute_script(\"window.scrollTo(1,10000)\")\n",
    "            time.sleep(2)\n",
    "            html = driver.page_source\n",
    "            with open(\"Monthly_Stats_New/{}_\".format(year) + str(i + 1) + \".html\", \"w+\") as f:\n",
    "                f.write(html)"
   ]
  },
  {
   "cell_type": "code",
   "execution_count": 26,
   "metadata": {},
   "outputs": [],
   "source": [
    "# Grabbing the tables out of the scraped HTML files (EXCLUDING OCTOBER)\n",
    "for year in nba_years:\n",
    "    # Again, 2011-12 was a weird year so the files we pulled don't contain all months. \n",
    "    # Thus we can only look for tables in the files we have\n",
    "    if year == \"2011-12\":\n",
    "        for i in range(4):\n",
    "            with open(\"Monthly_Stats_New/{}_\".format(year) + str(i+3) + \".html\") as f:\n",
    "                page = f.read()\n",
    "            soup = BeautifulSoup(page, \"html.parser\")\n",
    "            stats_table = soup.find_all(class_=\"nba-stat-table__overflow\")\n",
    "            stats = pd.read_html(str(stats_table))[0]\n",
    "\n",
    "            stats.to_csv(\"Monthly_Stats_CSV/{}_\".format(year) + str(i+3) + \".csv\")\n",
    "\n",
    "    # March of 2012-12 did not scrape properly, so we will skip over that month\n",
    "    elif year == \"2012-13\":\n",
    "        for i in range(4):\n",
    "            with open(\"Monthly_Stats_New/{}_\".format(year) + str(i+2) + \".html\") as f:\n",
    "                page = f.read()\n",
    "            soup = BeautifulSoup(page, \"html.parser\")\n",
    "            stats_table = soup.find_all(class_=\"nba-stat-table__overflow\")\n",
    "            stats = pd.read_html(str(stats_table))[0]\n",
    "\n",
    "            stats.to_csv(\"Monthly_Stats_CSV/{}_\".format(year) + str(i+2) + \".csv\")\n",
    "\n",
    "    # For every other year, we will pull the tables for every month\n",
    "    else:\n",
    "        for i in range(5):\n",
    "            with open(\"Monthly_Stats_New/{}_\".format(year) + str(i+2) + \".html\") as f:\n",
    "                page = f.read()\n",
    "            soup = BeautifulSoup(page, \"html.parser\")\n",
    "            stats_table = soup.find_all(class_=\"nba-stat-table__overflow\")\n",
    "            stats = pd.read_html(str(stats_table))[0]\n",
    "\n",
    "            stats.to_csv(\"Monthly_Stats_CSV/{}_\".format(year) + str(i+2) + \".csv\")"
   ]
  },
  {
   "cell_type": "code",
   "execution_count": 27,
   "metadata": {},
   "outputs": [
    {
     "name": "stdout",
     "output_type": "stream",
     "text": [
      "6\n",
      "6\n",
      "6\n",
      "6\n",
      "6\n",
      "6\n",
      "6\n",
      "6\n",
      "6\n",
      "6\n"
     ]
    }
   ],
   "source": [
    "path = \"/Users/Deen/Desktop/Neural_Nets/Final_Project/Monthly_Stats_CSV/\"\n",
    "\n",
    "files = os.listdir(path)\n",
    "\n",
    "for file in files:\n",
    "    file_list = file.split(\"-\")\n",
    "    month = int(file_list[1].split(\"_\")[1].split(\".\")[0])\n",
    "\n",
    "    # Here, year is defined by the earlier year in the season. Example: 2009-10 is \"9\"\n",
    "    year = int(file_list[0][2:])\n",
    "\n",
    "    # Remove all the last months because they won't be predicting anything!\n",
    "    if month == 6:\n",
    "        print(month)\n",
    "        os.remove(path+file)"
   ]
  },
  {
   "cell_type": "markdown",
   "metadata": {},
   "source": [
    "We now have game data for 2009-2022 (excluding COVID years). We will want to combine these dataframes, but first we should clean them up. Firstly, I think we shouldn't have the month of October predicting anything because there are so few games being played, so there is a high potential for noise there. Thus, we delete all CSVs from October."
   ]
  }
 ],
 "metadata": {
  "interpreter": {
   "hash": "aee8b7b246df8f9039afb4144a1f6fd8d2ca17a180786b69acc140d282b71a49"
  },
  "kernelspec": {
   "display_name": "Python 3.9.7 64-bit",
   "language": "python",
   "name": "python3"
  },
  "language_info": {
   "codemirror_mode": {
    "name": "ipython",
    "version": 3
   },
   "file_extension": ".py",
   "mimetype": "text/x-python",
   "name": "python",
   "nbconvert_exporter": "python",
   "pygments_lexer": "ipython3",
   "version": "3.9.7"
  },
  "orig_nbformat": 4
 },
 "nbformat": 4,
 "nbformat_minor": 2
}
